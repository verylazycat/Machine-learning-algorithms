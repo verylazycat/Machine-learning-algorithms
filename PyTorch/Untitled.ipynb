{
 "cells": [
  {
   "cell_type": "code",
   "execution_count": 23,
   "metadata": {},
   "outputs": [],
   "source": [
    "# 多项式回归\n",
    "# y = b + w1x + w2x^2 + w3x^3\n",
    "# y = 0.9 + 0.5x + 3x^2 + 2.4x^3\n",
    "import torch\n",
    "import torch.nn.functional as f\n",
    "import torch.autograd\n",
    "import numpy as np\n",
    "import matplotlib.pyplot as plt"
   ]
  },
  {
   "cell_type": "code",
   "execution_count": 24,
   "metadata": {},
   "outputs": [],
   "source": [
    "def count(firstval = 0,step = 1):\n",
    "    x = firstval\n",
    "    while 1:\n",
    "        yield x\n",
    "        x += step"
   ]
  },
  {
   "cell_type": "code",
   "execution_count": 25,
   "metadata": {},
   "outputs": [],
   "source": [
    "from itertools import count\n",
    "POLY_DEGREE = 3"
   ]
  },
  {
   "cell_type": "code",
   "execution_count": 29,
   "metadata": {},
   "outputs": [],
   "source": [
    "def make_feature(x):\n",
    "    x = x.unsqueeze(1)\n",
    "    return torch.cat([x**i  for i in range(1,POLY_DEGREE)],1)"
   ]
  },
  {
   "cell_type": "code",
   "execution_count": null,
   "metadata": {},
   "outputs": [],
   "source": [
    "w_target = torch.randn(POLY_DEGREE,1)\n",
    "b_target = torch.rand(1)\n",
    "def f(x):\n",
    "    return x.mm(w_target)+b_target.item()"
   ]
  }
 ],
 "metadata": {
  "kernelspec": {
   "display_name": "Python 3",
   "language": "python",
   "name": "python3"
  },
  "language_info": {
   "codemirror_mode": {
    "name": "ipython",
    "version": 3
   },
   "file_extension": ".py",
   "mimetype": "text/x-python",
   "name": "python",
   "nbconvert_exporter": "python",
   "pygments_lexer": "ipython3",
   "version": "3.7.2"
  }
 },
 "nbformat": 4,
 "nbformat_minor": 2
}
