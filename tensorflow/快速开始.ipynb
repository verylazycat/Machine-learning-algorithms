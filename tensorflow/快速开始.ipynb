{
 "cells": [
  {
   "cell_type": "code",
   "execution_count": 3,
   "metadata": {},
   "outputs": [
    {
     "name": "stdout",
     "output_type": "stream",
     "text": [
      "2.0.0\n",
      "2.2.4-tf\n"
     ]
    }
   ],
   "source": [
    "import tensorflow as tf\n",
    "from tensorflow.keras import layers\n",
    "print(tf.__version__)\n",
    "print(tf.keras.__version__)"
   ]
  },
  {
   "cell_type": "code",
   "execution_count": 5,
   "metadata": {},
   "outputs": [],
   "source": [
    "# tf.keras.Sequential\n",
    "# activation  激活函数\n",
    "model = tf.keras.Sequential()\n",
    "model.add(layers.Dense(32,activation='relu'))\n",
    "model.add(layers.Dense(32,activation='relu'))\n",
    "model.add(layers.Dense(10,activation='softmax'))"
   ]
  },
  {
   "cell_type": "code",
   "execution_count": 6,
   "metadata": {},
   "outputs": [
    {
     "data": {
      "text/plain": [
       "<tensorflow.python.keras.layers.core.Dense at 0x7f1d73f515c0>"
      ]
     },
     "execution_count": 6,
     "metadata": {},
     "output_type": "execute_result"
    }
   ],
   "source": [
    "layers.Dense(32,activation='sigmoid')\n",
    "layers.Dense(32,activation=tf.sigmoid)\n",
    "layers.Dense(32,kernel_initializer='orthogonal')\n",
    "layers.Dense(32,kernel_initializer=tf.keras.initializers.glorot_normal)\n",
    "layers.Dense(32,kernel_regularizer=tf.keras.regularizers.l2(0.01))\n",
    "layers.Dense(32,kernel_regularizer=tf.keras.regularizers.l1(0.01))"
   ]
  },
  {
   "cell_type": "code",
   "execution_count": 7,
   "metadata": {},
   "outputs": [],
   "source": [
    "model = tf.keras.Sequential()\n",
    "model.add(layers.Dense(32, activation='relu'))\n",
    "model.add(layers.Dense(32, activation='relu'))\n",
    "model.add(layers.Dense(10, activation='softmax'))\n",
    "model.compile(optimizer=tf.keras.optimizers.Adam(0.001),\n",
    "             loss=tf.keras.losses.categorical_crossentropy,\n",
    "             metrics=[tf.keras.metrics.categorical_accuracy])"
   ]
  },
  {
   "cell_type": "code",
   "execution_count": 8,
   "metadata": {},
   "outputs": [
    {
     "name": "stdout",
     "output_type": "stream",
     "text": [
      "Train on 1000 samples, validate on 200 samples\n",
      "Epoch 1/10\n",
      "1000/1000 [==============================] - 1s 820us/sample - loss: 11.9710 - categorical_accuracy: 0.1200 - val_loss: 12.0882 - val_categorical_accuracy: 0.0950\n",
      "Epoch 2/10\n",
      "1000/1000 [==============================] - 0s 108us/sample - loss: 12.3911 - categorical_accuracy: 0.1230 - val_loss: 12.6217 - val_categorical_accuracy: 0.0750\n",
      "Epoch 3/10\n",
      "1000/1000 [==============================] - 0s 311us/sample - loss: 13.0631 - categorical_accuracy: 0.1240 - val_loss: 13.4456 - val_categorical_accuracy: 0.0850\n",
      "Epoch 4/10\n",
      "1000/1000 [==============================] - 0s 117us/sample - loss: 14.0493 - categorical_accuracy: 0.1240 - val_loss: 14.6987 - val_categorical_accuracy: 0.0850\n",
      "Epoch 5/10\n",
      "1000/1000 [==============================] - 0s 186us/sample - loss: 15.7134 - categorical_accuracy: 0.1080 - val_loss: 16.9348 - val_categorical_accuracy: 0.1050\n",
      "Epoch 6/10\n",
      "1000/1000 [==============================] - 0s 148us/sample - loss: 18.4872 - categorical_accuracy: 0.1080 - val_loss: 20.2122 - val_categorical_accuracy: 0.1050\n",
      "Epoch 7/10\n",
      "1000/1000 [==============================] - 0s 120us/sample - loss: 21.8582 - categorical_accuracy: 0.1070 - val_loss: 23.5591 - val_categorical_accuracy: 0.0950\n",
      "Epoch 8/10\n",
      "1000/1000 [==============================] - 0s 144us/sample - loss: 25.4613 - categorical_accuracy: 0.1140 - val_loss: 27.7482 - val_categorical_accuracy: 0.0900\n",
      "Epoch 9/10\n",
      "1000/1000 [==============================] - 0s 145us/sample - loss: 30.2004 - categorical_accuracy: 0.1160 - val_loss: 32.9590 - val_categorical_accuracy: 0.1050\n",
      "Epoch 10/10\n",
      "1000/1000 [==============================] - 0s 146us/sample - loss: 35.5349 - categorical_accuracy: 0.1180 - val_loss: 38.4781 - val_categorical_accuracy: 0.0950\n"
     ]
    },
    {
     "data": {
      "text/plain": [
       "<tensorflow.python.keras.callbacks.History at 0x7f1d7415c048>"
      ]
     },
     "execution_count": 8,
     "metadata": {},
     "output_type": "execute_result"
    }
   ],
   "source": [
    "import numpy as np\n",
    "\n",
    "train_x = np.random.random((1000, 72))\n",
    "train_y = np.random.random((1000, 10))\n",
    "\n",
    "val_x = np.random.random((200, 72))\n",
    "val_y = np.random.random((200, 10))\n",
    "\n",
    "model.fit(train_x, train_y, epochs=10, batch_size=100,\n",
    "          validation_data=(val_x, val_y))"
   ]
  },
  {
   "cell_type": "code",
   "execution_count": 9,
   "metadata": {},
   "outputs": [
    {
     "name": "stdout",
     "output_type": "stream",
     "text": [
      "Train for 30 steps, validate for 3 steps\n",
      "Epoch 1/10\n",
      "30/30 [==============================] - 1s 19ms/step - loss: 47.7835 - categorical_accuracy: 0.1146 - val_loss: 61.1367 - val_categorical_accuracy: 0.0833\n",
      "Epoch 2/10\n",
      "30/30 [==============================] - 0s 5ms/step - loss: 66.8906 - categorical_accuracy: 0.1100 - val_loss: 78.6279 - val_categorical_accuracy: 0.0521\n",
      "Epoch 3/10\n",
      "30/30 [==============================] - 0s 6ms/step - loss: 85.8311 - categorical_accuracy: 0.0994 - val_loss: 103.5323 - val_categorical_accuracy: 0.0625\n",
      "Epoch 4/10\n",
      "30/30 [==============================] - 0s 9ms/step - loss: 108.8668 - categorical_accuracy: 0.1047 - val_loss: 127.5057 - val_categorical_accuracy: 0.0729\n",
      "Epoch 5/10\n",
      "30/30 [==============================] - 0s 6ms/step - loss: 130.7939 - categorical_accuracy: 0.1068 - val_loss: 151.9397 - val_categorical_accuracy: 0.0833\n",
      "Epoch 6/10\n",
      "30/30 [==============================] - 0s 5ms/step - loss: 159.5301 - categorical_accuracy: 0.0994 - val_loss: 189.6817 - val_categorical_accuracy: 0.0833\n",
      "Epoch 7/10\n",
      "30/30 [==============================] - 0s 6ms/step - loss: 191.8764 - categorical_accuracy: 0.1026 - val_loss: 229.3306 - val_categorical_accuracy: 0.0938\n",
      "Epoch 8/10\n",
      "30/30 [==============================] - 0s 11ms/step - loss: 226.1208 - categorical_accuracy: 0.1175 - val_loss: 262.5003 - val_categorical_accuracy: 0.1146\n",
      "Epoch 9/10\n",
      "30/30 [==============================] - 0s 7ms/step - loss: 256.2473 - categorical_accuracy: 0.1068 - val_loss: 292.0595 - val_categorical_accuracy: 0.0625\n",
      "Epoch 10/10\n",
      "30/30 [==============================] - 0s 7ms/step - loss: 278.1503 - categorical_accuracy: 0.0951 - val_loss: 315.8146 - val_categorical_accuracy: 0.0833\n"
     ]
    },
    {
     "data": {
      "text/plain": [
       "<tensorflow.python.keras.callbacks.History at 0x7f1d30365390>"
      ]
     },
     "execution_count": 9,
     "metadata": {},
     "output_type": "execute_result"
    }
   ],
   "source": [
    "dataset = tf.data.Dataset.from_tensor_slices((train_x, train_y))\n",
    "dataset = dataset.batch(32)\n",
    "dataset = dataset.repeat()\n",
    "val_dataset = tf.data.Dataset.from_tensor_slices((val_x, val_y))\n",
    "val_dataset = val_dataset.batch(32)\n",
    "val_dataset = val_dataset.repeat()\n",
    "\n",
    "model.fit(dataset, epochs=10, steps_per_epoch=30,\n",
    "          validation_data=val_dataset, validation_steps=3)"
   ]
  },
  {
   "cell_type": "code",
   "execution_count": null,
   "metadata": {},
   "outputs": [],
   "source": [
    "test_x = np.random.random((1000, 72))\n",
    "test_y = np.random.random((1000, 10))\n",
    "model.evaluate(test_x, test_y, batch_size=32)\n",
    "test_data = tf.data.Dataset.from_tensor_slices((test_x, test_y))\n",
    "test_data = test_data.batch(32).repeat()\n",
    "model.evaluate(test_data, steps=30)\n",
    "# predict\n",
    "result = model.predict(test_x, batch_size=32)\n",
    "print(result)"
   ]
  },
  {
   "cell_type": "code",
   "execution_count": null,
   "metadata": {},
   "outputs": [],
   "source": []
  }
 ],
 "metadata": {
  "kernelspec": {
   "display_name": "Python 3",
   "language": "python",
   "name": "python3"
  },
  "language_info": {
   "codemirror_mode": {
    "name": "ipython",
    "version": 3
   },
   "file_extension": ".py",
   "mimetype": "text/x-python",
   "name": "python",
   "nbconvert_exporter": "python",
   "pygments_lexer": "ipython3",
   "version": "3.7.2"
  }
 },
 "nbformat": 4,
 "nbformat_minor": 2
}
